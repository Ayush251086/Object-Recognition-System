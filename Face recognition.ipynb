{
 "cells": [
  {
   "cell_type": "code",
   "execution_count": 5,
   "id": "6d146f69-74ad-4428-a7fd-7bb07bdc23ff",
   "metadata": {},
   "outputs": [],
   "source": [
    "import cv2"
   ]
  },
  {
   "cell_type": "code",
   "execution_count": 6,
   "id": "224994e0-c55d-4743-920d-591c019f9f69",
   "metadata": {},
   "outputs": [],
   "source": [
    "#camera Enable code\n",
    "video_cap=cv2.VideoCapture(0)\n",
    "while True:\n",
    "    ret , video_data =video_cap.read()\n",
    "    cv2.imshow(\"...live Video...\",video_data)\n",
    "    if cv2.waitKey(10) == ord(\" \"):\n",
    "        break\n",
    "video_cap.release()    "
   ]
  },
  {
   "cell_type": "code",
   "execution_count": 4,
   "id": "b255dedb-1211-47a0-9372-2444c77676e8",
   "metadata": {},
   "outputs": [],
   "source": [
    "# Load the Haar cascade for face detection\n",
    "face_cap = cv2.CascadeClassifier(cv2.data.haarcascades + \"haarcascade_frontalface_default.xml\")\n",
    "\n",
    "# Open webcam\n",
    "video_cap = cv2.VideoCapture(0)\n",
    "\n",
    "while True:\n",
    "    ret, video_data = video_cap.read()  # Capture frame\n",
    "\n",
    "    if not ret:\n",
    "        print(\"Failed to grab frame\")\n",
    "        break\n",
    "\n",
    "    # Convert frame to grayscale (better for detection)\n",
    "    gray = cv2.cvtColor(video_data, cv2.COLOR_BGR2GRAY)\n",
    "\n",
    "    # Detect faces\n",
    "    faces = face_cap.detectMultiScale(\n",
    "        gray,\n",
    "        scaleFactor=1.1,\n",
    "        minNeighbors=5,\n",
    "        minSize=(30, 30),\n",
    "        flags=cv2.CASCADE_SCALE_IMAGE\n",
    "    )\n",
    "\n",
    "    # Draw rectangles around detected faces\n",
    "    for (x, y, w, h) in faces:\n",
    "        cv2.rectangle(video_data, (x, y), (x + w, y + h), (0, 255, 0), 2)\n",
    "\n",
    "    # Display video feed\n",
    "    cv2.imshow(\"...Live Video...\", video_data)\n",
    "\n",
    "    # Press SPACE to exit\n",
    "    if cv2.waitKey(10) == ord(\" \"):\n",
    "        break\n",
    "\n",
    "# Release resources\n",
    "video_cap.release()\n",
    "cv2.destroyAllWindows()"
   ]
  },
  {
   "cell_type": "code",
   "execution_count": null,
   "id": "c51d9d40-5639-49a9-bb60-3856af4bb56f",
   "metadata": {},
   "outputs": [],
   "source": []
  }
 ],
 "metadata": {
  "kernelspec": {
   "display_name": "Python 3 (ipykernel)",
   "language": "python",
   "name": "python3"
  },
  "language_info": {
   "codemirror_mode": {
    "name": "ipython",
    "version": 3
   },
   "file_extension": ".py",
   "mimetype": "text/x-python",
   "name": "python",
   "nbconvert_exporter": "python",
   "pygments_lexer": "ipython3",
   "version": "3.12.3"
  }
 },
 "nbformat": 4,
 "nbformat_minor": 5
}
